{
 "metadata": {
  "kernelspec": {
   "display_name": ".NET (C#)",
   "language": "C#",
   "name": ".net-csharp"
  },
  "language_info": {
   "name": "C#"
  }
 },
 "cells": [
  {
   "cell_type": "markdown",
   "source": [
    "# Aufgabe 1\r\n",
    "Schreiben Sie für den Datentyp `int` eine Erweiterungsmethode `IsEven`, welche\r\n",
    "`true` liefert, falls eine Zahl gerade ist, und sonst `false` zurückgibt."
   ],
   "metadata": {}
  },
  {
   "cell_type": "code",
   "execution_count": null,
   "source": [
    "public static bool IsEven(this int number){\r\n",
    "    return number % 2 == 0;\r\n",
    "}"
   ],
   "outputs": [],
   "metadata": {
    "dotnet_interactive": {
     "language": "csharp"
    }
   }
  },
  {
   "cell_type": "markdown",
   "source": [
    "Führen Sie im nachstehenden Programmfragment die erforderlichen Ergänzungen\r\n",
    "durch, sodass für jede Zahl ausgegeben wird, ob sie grade oder ungerade ist."
   ],
   "metadata": {}
  },
  {
   "cell_type": "code",
   "execution_count": null,
   "source": [
    "foreach (var i in new [] {1,2,3,4}) \r\n",
    "{\r\n",
    "  Console.WriteLine($\"{i} is {(i.IsEven() ? \"even\" : \"uneven\")}\"); // TODO\r\n",
    "}"
   ],
   "outputs": [
    {
     "output_type": "stream",
     "name": "stdout",
     "text": [
      "1 is uneven\r\n",
      "2 is even\r\n",
      "3 is uneven\r\n",
      "4 is even\r\n"
     ]
    }
   ],
   "metadata": {
    "dotnet_interactive": {
     "language": "csharp"
    }
   }
  },
  {
   "cell_type": "markdown",
   "source": [
    "# Aufgabe 2\r\n",
    "Schreiben Sie für `int` eine weitere Erweiterungsmethode `Holds`, welche überprüft, ob für eine ganze Zahl ein vorgegebenes Prädikat erfüllt ist."
   ],
   "metadata": {}
  },
  {
   "cell_type": "markdown",
   "source": [
    "Definieren Sie dafür zunächst einen Delegate-Type `Predicate`, der Methoden\r\n",
    "beschreibt, die eine ganze Zahl auf einen booleschen Wert abbilden."
   ],
   "metadata": {}
  },
  {
   "cell_type": "code",
   "execution_count": null,
   "source": [
    "public delegate bool MyPredicate(int x);"
   ],
   "outputs": [],
   "metadata": {
    "dotnet_interactive": {
     "language": "csharp"
    }
   }
  },
  {
   "cell_type": "markdown",
   "source": [
    "Implementieren Sie nun auf Basis von `Predicate` die Erweiterungsmethode `Holds`."
   ],
   "metadata": {}
  },
  {
   "cell_type": "code",
   "execution_count": null,
   "source": [
    "public static bool MyHolds(this int number, MyPredicate predicate){\r\n",
    "    return predicate(number);\r\n",
    "}"
   ],
   "outputs": [],
   "metadata": {
    "dotnet_interactive": {
     "language": "csharp"
    }
   }
  },
  {
   "cell_type": "markdown",
   "source": [
    "Geben Sie nachfolgend unter Zuhilfenahme von `Holds` alle positiven Zahlen des\r\n",
    "Arrays `numbers` auf der Konsole aus."
   ],
   "metadata": {}
  },
  {
   "cell_type": "code",
   "execution_count": null,
   "source": [
    "var numbers = new [] { -1, 3, -5, 8, -17, 41 };\r\n",
    "\r\n",
    "// foreach(var number in numbers.Where(x => x.MyHolds(y => y > 0))){\r\n",
    "//     Console.WriteLine(number);\r\n",
    "// }\r\n",
    "foreach(var number in numbers.Where(x => x > 0)){\r\n",
    "    Console.WriteLine(number);\r\n",
    "}"
   ],
   "outputs": [
    {
     "output_type": "stream",
     "name": "stdout",
     "text": [
      "3\r\n",
      "8\r\n",
      "41\r\n"
     ]
    }
   ],
   "metadata": {
    "dotnet_interactive": {
     "language": "csharp"
    }
   }
  },
  {
   "cell_type": "markdown",
   "source": [
    "# Aufgabe 3\r\n",
    "Implementieren Sie eine Erweiterungsmethode `HoldsForAll`, welche für einen\r\n",
    "beliebigen Behälter von Werten mit dem Datentyp T überprüft, ob ein Prädikat für alle\r\n",
    "Elemente eines Behälters erfüllt ist.\r\n",
    "\r\n",
    "*Hinweis:* Sie müssen dafür auch den Delegate-Typ `Predicate` allgemeiner definieren."
   ],
   "metadata": {}
  },
  {
   "cell_type": "code",
   "execution_count": null,
   "source": [
    "public static bool HoldsForAll<T>(this IEnumerable<T> enumerable, Predicate<T> pred){\r\n",
    "    return enumerable.All(x => pred(x));\r\n",
    "    // foreach (var item in enumerable) {\r\n",
    "    //     if(!pred(item))\r\n",
    "    //         return false;\r\n",
    "    // }\r\n",
    "    // return true;\r\n",
    "}"
   ],
   "outputs": [],
   "metadata": {
    "dotnet_interactive": {
     "language": "csharp"
    }
   }
  },
  {
   "cell_type": "markdown",
   "source": [
    "Testen Sie `HoldsForAll`, indem Sie überprüfen, ob alle in `words` enthalten\r\n",
    "Zeichenketten nicht leer sind."
   ],
   "metadata": {}
  },
  {
   "cell_type": "code",
   "execution_count": null,
   "source": [
    "var words = new [] { \"Hello\", \"world\"};\r\n",
    "bool noEmptyWords = words.HoldsForAll(x => !string.IsNullOrEmpty(x));\r\n",
    "Console.WriteLine($\"noEmptyWords={noEmptyWords}\");"
   ],
   "outputs": [
    {
     "output_type": "stream",
     "name": "stdout",
     "text": [
      "noEmptyWords=True\r\n"
     ]
    }
   ],
   "metadata": {
    "dotnet_interactive": {
     "language": "csharp"
    }
   }
  }
 ],
 "nbformat": 4,
 "nbformat_minor": 2
}